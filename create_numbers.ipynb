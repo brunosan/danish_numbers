{
 "cells": [
  {
   "cell_type": "code",
   "execution_count": 1,
   "metadata": {},
   "outputs": [],
   "source": [
    "import random\n",
    "import json\n",
    "\n",
    "danish_numbers = {\n",
    "    0:\"nul\", 1: \"en\", 2: \"to\", 3: \"tre\", 4: \"fire\", 5: \"fem\", 6: \"seks\", 7: \"syv\", 8: \"otte\", 9: \"ni\", 10: \"ti\",\n",
    "    11: \"elleve\", 12: \"tolv\", 13: \"tretten\", 14: \"fjorten\", 15: \"femten\", 16: \"seksten\", 17: \"sytten\", 18: \"atten\", 19: \"nitten\", 20: \"tyve\",\n",
    "    21: \"enogtyve\", 22: \"toogtyve\", 23: \"treogtyve\", 24: \"fireogtyve\", 25: \"femogtyve\", 26: \"seksogtyve\", 27: \"syvogtyve\", 28: \"otteogtyve\", 29: \"niogtyve\",\n",
    "    30: \"tredive\", 31: \"enogtredive\", 32: \"toogtredive\", 33: \"treogtredive\", 34: \"fireogtredive\", 35: \"femogtredive\", 36: \"seksogtredive\", 37: \"syvogtredive\", 38: \"otteogtredive\", 39: \"niogtredive\",\n",
    "    40: \"fyrre\", 41: \"enogfyrre\", 42: \"toogfyrre\", 43: \"treogfyrre\", 44: \"fireogfyrre\", 45: \"femogfyrre\", 46: \"seksogfyrre\", 47: \"syvogfyrre\", 48: \"otteogfyrre\", 49: \"niogfyrre\",\n",
    "    50: \"halvtreds\", 51: \"enoghalvtreds\", 52: \"tooghalvtreds\", 53: \"treoghalvtreds\", 54: \"fireoghalvtreds\", 55: \"femoghalvtreds\", 56: \"seksoghalvtreds\", 57: \"syvoghalvtreds\", 58: \"otteoghalvtreds\", 59: \"nioghalvtreds\",\n",
    "    60: \"tres\", 61: \"enogtres\", 62: \"toogtres\", 63: \"treogtres\", 64: \"fireogtres\", 65: \"femogtres\", 66: \"seksogtres\", 67: \"syvogtres\", 68: \"otteogtres\", 69: \"niogtres\",\n",
    "    70: \"halvfjerds\", 71: \"enoghalvfjerds\", 72: \"tooghalvfjerds\", 73: \"treoghalvfjerds\", 74: \"fireoghalvfjerds\", 75: \"femoghalvfjerds\", 76: \"seksoghalvfjerds\", 77: \"syvoghalvfjerds\", 78: \"otteoghalvfjerds\", 79: \"nioghalvfjerds\",\n",
    "    80: \"firs\", 81: \"enogfirs\", 82: \"toogfirs\", 83: \"treogfirs\", 84: \"fireogfirs\", 85: \"femogfirs\", 86: \"seksogfirs\", 87: \"syvogfirs\", 88: \"otteogfirs\", 89: \"niogfirs\",\n",
    "    90: \"halvfems\", 91: \"enoghalvfems\", 92: \"tooghalvfems\", 93: \"treoghalvfems\", 94: \"fireoghalvfems\", 95: \"femoghalvfems\", 96: \"seksoghalvfems\", 97: \"syvoghalvfems\", 98: \"otteoghalvfems\", 99: \"nioghalvfems\", 100: \"hundrede\"\n",
    "}\n",
    "# Step 2: Generate numbers and fill in missing translations\n",
    "number_of_random_numbers = 4000\n",
    "random_numbers = random.sample(range(1, 10000), number_of_random_numbers)  # Limit to 999 for this example\n",
    "\n",
    "for num in random_numbers:\n",
    "    if num not in danish_numbers:  # Check if translation is missing\n",
    "        if num < 100:\n",
    "            tens, ones = divmod(num, 10)\n",
    "            if ones:  # Add \"og\" only if ones is not zero\n",
    "                danish_numbers[num] = f\"{danish_numbers[10 * tens]} og {danish_numbers[ones]}\"\n",
    "            else:\n",
    "                danish_numbers[num] = danish_numbers[10 * tens]\n",
    "        elif num < 1000:\n",
    "            hundreds, remainder = divmod(num, 100)\n",
    "            if remainder:  # Add \"og\" only if remainder is not zero\n",
    "                danish_numbers[num] = f\"{danish_numbers[hundreds]} hundrede og {danish_numbers[remainder]}\"\n",
    "            else:\n",
    "                danish_numbers[num] = f\"{danish_numbers[hundreds]} hundrede\"\n",
    "\n",
    "danish_numbers = dict(sorted(danish_numbers.items()))\n",
    "\n",
    "def save_as_json(data, filename=\"danish_numbers.json\"):\n",
    "    with open(filename, 'w', encoding='utf-8') as f:\n",
    "        json.dump(data, f, ensure_ascii=False, indent=4)\n",
    "\n",
    "# Step 4: Save the danish_numbers dictionary as JSON\n",
    "save_as_json(danish_numbers)\n"
   ]
  },
  {
   "cell_type": "code",
   "execution_count": null,
   "metadata": {},
   "outputs": [],
   "source": []
  }
 ],
 "metadata": {
  "kernelspec": {
   "display_name": "Python 3",
   "language": "python",
   "name": "python3"
  },
  "language_info": {
   "codemirror_mode": {
    "name": "ipython",
    "version": 3
   },
   "file_extension": ".py",
   "mimetype": "text/x-python",
   "name": "python",
   "nbconvert_exporter": "python",
   "pygments_lexer": "ipython3",
   "version": "3.9.6"
  }
 },
 "nbformat": 4,
 "nbformat_minor": 2
}
